{
 "cells": [
  {
   "cell_type": "code",
   "execution_count": null,
   "metadata": {},
   "outputs": [],
   "source": [
    "import pandas as pd\n",
    "import numpy as np\n",
    "import PIL.Image as Image\n",
    "import glob\n",
    "from tqdm import tqdm_notebook\n",
    "import cv2\n",
    "import lasio"
   ]
  },
  {
   "cell_type": "code",
   "execution_count": null,
   "metadata": {},
   "outputs": [],
   "source": [
    "w6406=lasio.read('./data/6406_3_2 grainsize.las')\n",
    "print(w6406.keys())\n",
    "depth = w6406['DEPT']\n",
    "grain_size = w6406['GRAIN_SIZE']\n",
    "grain_size"
   ]
  },
  {
   "cell_type": "code",
   "execution_count": null,
   "metadata": {},
   "outputs": [],
   "source": [
    "w6406 = pd.DataFrame([depth, grain_size])\n",
    "w6406 = w6406.T\n",
    "w6406.head(5)\n",
    "w6406.columns = ['depth', 'gs']\n",
    "\n",
    "\n"
   ]
  },
  {
   "cell_type": "code",
   "execution_count": null,
   "metadata": {},
   "outputs": [],
   "source": [
    "#w6406 = w6406[['DEPT','GRAIN_SIZE']]\n",
    "w64 = w6406[w6406>0].dropna()"
   ]
  },
  {
   "cell_type": "code",
   "execution_count": null,
   "metadata": {},
   "outputs": [],
   "source": [
    "%matplotlib inline\n",
    "#w64 = w64.set_index('depth')\n",
    "w64.plot(figsize=(15,10))"
   ]
  },
  {
   "cell_type": "code",
   "execution_count": null,
   "metadata": {},
   "outputs": [],
   "source": [
    "imgs = glob.glob('./data/well_6406_3_2_images/*.jpg')\n",
    "train_df = pd.DataFrame(imgs)\n",
    "train_df.columns=['imgName']"
   ]
  },
  {
   "cell_type": "code",
   "execution_count": null,
   "metadata": {},
   "outputs": [],
   "source": [
    "train_df['img'] = [np.array(cv2.imread(\"{}\".format(idx))) for idx in tqdm_notebook(train_df.imgName)]\n"
   ]
  },
  {
   "cell_type": "code",
   "execution_count": null,
   "metadata": {},
   "outputs": [],
   "source": [
    "train_df['imgsize'] = train_df['img'].apply(lambda x: x.shape)"
   ]
  },
  {
   "cell_type": "code",
   "execution_count": null,
   "metadata": {},
   "outputs": [],
   "source": [
    "print('max dimension', train_df['imgsize'].max())\n",
    "print('min dimension', train_df['imgsize'].min())"
   ]
  },
  {
   "cell_type": "code",
   "execution_count": null,
   "metadata": {
    "scrolled": true
   },
   "outputs": [],
   "source": [
    "train_df['imgName']"
   ]
  },
  {
   "cell_type": "code",
   "execution_count": null,
   "metadata": {},
   "outputs": [],
   "source": [
    "train_df['startDepth'] = train_df.imgName.str.replace('.jpg','').str.split('_').str[-2].astype(float)\n",
    "train_df['endDepth'] = train_df.imgName.str.replace('.jpg','').str.split('_').str[-1].astype(float)\n",
    "train_df['wellname']= train_df.imgName.str.split('/').str[2]"
   ]
  },
  {
   "cell_type": "code",
   "execution_count": null,
   "metadata": {
    "scrolled": true
   },
   "outputs": [],
   "source": [
    "sd = train_df.startDepth.values\n",
    "ed = train_df.endDepth.values\n",
    "gsd = w64.depth.values\n",
    "gs = w64.gs.values\n",
    "\n",
    "i,j = np.where((gsd[:,None] >= sd) & (gsd[:,None] <ed))\n",
    "w64joined= pd.DataFrame(np.column_stack([w64.values[i],train_df.values[j]]), columns=w64.columns.append(train_df.columns))"
   ]
  },
  {
   "cell_type": "code",
   "execution_count": null,
   "metadata": {
    "scrolled": true
   },
   "outputs": [],
   "source": [
    "w64s = w64joined[['gs','depth','imgName','startDepth','endDepth','wellname']]"
   ]
  },
  {
   "cell_type": "code",
   "execution_count": null,
   "metadata": {},
   "outputs": [],
   "source": [
    "w64joined_2000x260=w64joined\n",
    "#Resize the image to 2000x260\n",
    "w64joined_2000x260['img'] = w64joined_2000x260.apply(lambda x: cv2.resize(x['img'], (260, 2000)), axis=1)\n"
   ]
  },
  {
   "cell_type": "code",
   "execution_count": null,
   "metadata": {},
   "outputs": [],
   "source": [
    "# crop the sides of the image to 244\n",
    "w64joined_2000x244=w64joined_2000x260\n",
    "w64joined_2000x244['img'] = w64joined_2000x260.apply(lambda x: x['img'][:, 18:242], axis=1)\n"
   ]
  },
  {
   "cell_type": "code",
   "execution_count": null,
   "metadata": {},
   "outputs": [],
   "source": [
    "def processImg(xratio,img):\n",
    "    xs = int(xratio * img.shape[0])\n",
    "    xe = int((xratio + 0.2)*img.shape[0])\n",
    "    newimg = img[xs:xe]\n",
    "    return [newimg]\n",
    "w64joined_2000x244['sdratio'] = (w64joined_2000x244['depth'] - w64joined_2000x244['startDepth'])/ \\\n",
    "( w64joined_2000x244['endDepth'] - w64joined_2000x244['startDepth']) - 0.15\n",
    "w64joined_2000x244['imgp'] =  w64joined_2000x244[['sdratio','img']].apply(lambda x:processImg(x[0],x[1]),axis=1)"
   ]
  },
  {
   "cell_type": "code",
   "execution_count": null,
   "metadata": {},
   "outputs": [],
   "source": [
    "w64joined['imgp'][0][0].shape"
   ]
  },
  {
   "cell_type": "code",
   "execution_count": null,
   "metadata": {},
   "outputs": [],
   "source": [
    "w64s['gs'] = w64s['gs'].astype(float)\n",
    "w64s['depth']=w64s['depth'].astype(float)\n",
    "w64s.groupby(w64s.startDepth).aggregate({'gs':'mean','depth':'mean','imgName':'first','startDepth':'first'})"
   ]
  },
  {
   "cell_type": "code",
   "execution_count": null,
   "metadata": {},
   "outputs": [],
   "source": [
    "aggregation_functions = {'gs': 'mean', 'depth': 'mean','imgName':'first', 'img': 'first','endDepth':'first','wellname':'first'}\n",
    "w64g = w64joined.groupby(w64joined.startDepth).aggregate(aggregation_functions)"
   ]
  },
  {
   "cell_type": "code",
   "execution_count": null,
   "metadata": {},
   "outputs": [],
   "source": [
    "w64joined_224x224=w64joined\n",
    "#Resize the image to 2000x260\n",
    "w64joined_224x224['img'] = w64joined_224x224.apply(lambda x: cv2.resize(x['img'], (224, 224)), axis=1)"
   ]
  },
  {
   "cell_type": "code",
   "execution_count": null,
   "metadata": {},
   "outputs": [],
   "source": [
    "def saveImage(img,name):\n",
    "    img2save = Image.fromarray(img)\n",
    "    img2save.save(os.path.join('./data',name))\n",
    "\n",
    "i=0\n",
    "for d in w64joined_224x224.iterrows():\n",
    "    i = i + 1\n",
    "    print(d)\n",
    "    name = d['wellname'] +\"_\" + str(d['startDepth']) + \"_\" + str(d['endDepth']) + '.png'\n",
    "    print('name is ', name)\n",
    "    saveImage(img[0],name)\n",
    "    if i > 10:\n",
    "        break\n",
    "    "
   ]
  }
 ],
 "metadata": {
  "kernelspec": {
   "display_name": "Python 3",
   "language": "python",
   "name": "python3"
  },
  "language_info": {
   "codemirror_mode": {
    "name": "ipython",
    "version": 3
   },
   "file_extension": ".py",
   "mimetype": "text/x-python",
   "name": "python",
   "nbconvert_exporter": "python",
   "pygments_lexer": "ipython3",
   "version": "3.6.4"
  }
 },
 "nbformat": 4,
 "nbformat_minor": 2
}
